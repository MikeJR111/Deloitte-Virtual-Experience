{
 "cells": [
  {
   "cell_type": "code",
   "execution_count": 1,
   "metadata": {},
   "outputs": [],
   "source": [
    "import json, unittest, datetime"
   ]
  },
  {
   "cell_type": "code",
   "execution_count": 2,
   "metadata": {},
   "outputs": [],
   "source": [
    "with open(\"./data-1.json\",\"r\") as f:\n",
    "    jsonData1 = json.load(f)\n",
    "with open(\"./data-2.json\",\"r\") as f:\n",
    "    jsonData2 = json.load(f)\n",
    "with open(\"./data-result.json\",\"r\") as f:\n",
    "    jsonExpectedResult = json.load(f)"
   ]
  },
  {
   "cell_type": "code",
   "execution_count": null,
   "metadata": {},
   "outputs": [],
   "source": [
    "def convertFromFormat1 (jsonObject):\n",
    "    location_parts = jsonObject[\"location\"].split('/')\n",
    "    result = {\n",
    "        \"deviceID\": jsonObject[\"deviceID\"],\n",
    "        \"deviceType\": jsonObject[\"deviceType\"],\n",
    "        \"timestamp\": jsonObject[\"timestamp\"],\n",
    "        \"location\": {\n",
    "            \"country\": location_parts[0],\n",
    "            \"city\": location_parts[1],\n",
    "            \"area\": location_parts[2],\n",
    "            \"factory\": location_parts[3],\n",
    "            \"section\": location_parts[4]\n",
    "        },\n",
    "        \"data\": {\n",
    "            \"status\": jsonObject[\"operationStatus\"],\n",
    "            \"temperature\": jsonObject[\"temp\"]\n",
    "        }\n",
    "    }\n",
    "    return result\n",
    "\n",
    "\n",
    "def convertFromFormat2 (jsonObject):\n",
    "    result = {\n",
    "        \"deviceID\": jsonObject[\"device\"][\"id\"],\n",
    "        \"deviceType\": jsonObject[\"device\"][\"type\"],\n",
    "        \"timestamp\": int(datetime.datetime.strptime(jsonObject[\"timestamp\"], \"%Y-%m-%dT%H:%M:%S.%fZ\").timestamp() * 1000),\n",
    "        \"location\": {\n",
    "            \"country\": jsonObject[\"country\"],\n",
    "            \"city\": jsonObject[\"city\"],\n",
    "            \"area\": jsonObject[\"area\"],\n",
    "            \"factory\": jsonObject[\"factory\"],\n",
    "            \"section\": jsonObject[\"section\"]\n",
    "        },\n",
    "        \"data\": {\n",
    "            \"status\": jsonObject[\"data\"][\"status\"],\n",
    "            \"temperature\": jsonObject[\"data\"][\"temperature\"]\n",
    "        }\n",
    "    }\n",
    "    return result\n",
    "\n",
    "def main (jsonObject):\n",
    "    \n",
    "    result = {}\n",
    "\n",
    "    if (jsonObject.get('device') == None):\n",
    "        result = convertFromFormat1(jsonObject)\n",
    "    else:\n",
    "        result = convertFromFormat2(jsonObject)\n",
    "\n",
    "    return result"
   ]
  },
  {
   "cell_type": "code",
   "execution_count": null,
   "metadata": {},
   "outputs": [],
   "source": [
    "class TestSolution(unittest.TestCase):\n",
    "    \n",
    "    def test_sanity(self):\n",
    "\n",
    "        result = json.loads(json.dumps(jsonExpectedResult))\n",
    "        self.assertEqual(\n",
    "            result,\n",
    "            jsonExpectedResult\n",
    "        )\n",
    "\n",
    "    def test_dataType1(self):\n",
    "\n",
    "        result = main (jsonData1)\n",
    "        self.assertEqual(\n",
    "            result,\n",
    "            jsonExpectedResult,\n",
    "            'Converting from Type 1 failed'\n",
    "        )\n",
    "\n",
    "    def test_dataType2(self):\n",
    "\n",
    "        result = main (jsonData2)\n",
    "        self.assertEqual(\n",
    "            result,\n",
    "            jsonExpectedResult,\n",
    "            'Converting from Type 2 failed'\n",
    "        )"
   ]
  },
  {
   "cell_type": "code",
   "execution_count": null,
   "metadata": {},
   "outputs": [],
   "source": [
    "if __name__ == '__main__':\n",
    "    unittest.main()\n"
   ]
  }
 ],
 "metadata": {
  "kernelspec": {
   "display_name": "base",
   "language": "python",
   "name": "python3"
  },
  "language_info": {
   "codemirror_mode": {
    "name": "ipython",
    "version": 3
   },
   "file_extension": ".py",
   "mimetype": "text/x-python",
   "name": "python",
   "nbconvert_exporter": "python",
   "pygments_lexer": "ipython3",
   "version": "3.8.8"
  },
  "orig_nbformat": 4
 },
 "nbformat": 4,
 "nbformat_minor": 2
}
